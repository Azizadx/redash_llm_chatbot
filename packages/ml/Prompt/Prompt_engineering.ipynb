{
 "cells": [
  {
   "cell_type": "markdown",
   "metadata": {},
   "source": [
    "### Openai"
   ]
  },
  {
   "cell_type": "markdown",
   "metadata": {},
   "source": [
    "#### Load the API key and relevant Python libaries."
   ]
  },
  {
   "cell_type": "code",
   "execution_count": 5,
   "metadata": {
    "tags": []
   },
   "outputs": [],
   "source": [
    "import openai\n",
    "import os\n",
    "import json \n",
    "import requests\n",
    "from pprint import pprint\n",
    "import json\n",
    "import tiktoken\n",
    "import openai\n",
    "import requests\n",
    "from tenacity import retry, wait_random_exponential, stop_after_attempt\n",
    "from termcolor import colored\n",
    "GPT_MODEL = \"gpt-3.5-turbo-0613\""
   ]
  },
  {
   "cell_type": "code",
   "execution_count": 6,
   "metadata": {
    "tags": []
   },
   "outputs": [],
   "source": [
    "from dotenv import load_dotenv, find_dotenv\n",
    "from openai import OpenAI\n",
    "_ = load_dotenv(find_dotenv())\n",
    "openai.api_key  = os.getenv('OPENAI_API_KEY')"
   ]
  },
  {
   "cell_type": "code",
   "execution_count": 7,
   "metadata": {
    "tags": []
   },
   "outputs": [],
   "source": [
    "def count_token(input, model_name=GPT_MODEL, debug=False):\n",
    "        encoding = tiktoken.encoding_for_model(model_name)\n",
    "        codex = \" \".join(input.splitlines())  # Join lines into a single string\n",
    "        num_tokens = len(encoding.encode(codex))\n",
    "        return num_tokens\n"
   ]
  },
  {
   "cell_type": "markdown",
   "metadata": {},
   "source": [
    "### Completion Api"
   ]
  },
  {
   "cell_type": "code",
   "execution_count": 9,
   "metadata": {
    "tags": []
   },
   "outputs": [],
   "source": [
    "from openai import OpenAI\n",
    "client = OpenAI()\n",
    "\n",
    "response = client.completions.create(\n",
    "  model=\"gpt-3.5-turbo-instruct\",\n",
    "  prompt=\"Write a tagline for an ice cream shop.\"\n",
    ")"
   ]
  },
  {
   "cell_type": "code",
   "execution_count": 10,
   "metadata": {
    "tags": []
   },
   "outputs": [
    {
     "data": {
      "text/plain": [
       "'\\n\\n\"Scoops of happiness in every cone!\" '"
      ]
     },
     "execution_count": 10,
     "metadata": {},
     "output_type": "execute_result"
    }
   ],
   "source": [
    "response.choices[0].text"
   ]
  },
  {
   "cell_type": "markdown",
   "metadata": {},
   "source": [
    "### Chat Completions"
   ]
  },
  {
   "cell_type": "code",
   "execution_count": 11,
   "metadata": {
    "tags": []
   },
   "outputs": [
    {
     "name": "stdout",
     "output_type": "stream",
     "text": [
      "ChatCompletionMessage(content='\"Indulge in the Creamy Bliss, Scoop by Scoop!\"', role='assistant', function_call=None, tool_calls=None)\n"
     ]
    }
   ],
   "source": [
    "client = OpenAI()\n",
    "\n",
    "completion = client.chat.completions.create(\n",
    "  model=GPT_MODEL,\n",
    "  messages=[\n",
    "    {\"role\": \"system\", \"content\": \"You are an expert in writing taglines for ice cream shops. you are creative and original.\"},\n",
    "    {\"role\": \"user\", \"content\": \"Write a tagline for an ice cream shop.\"}\n",
    "  ]\n",
    ")\n",
    "\n",
    "print(completion.choices[0].message)"
   ]
  },
  {
   "cell_type": "markdown",
   "metadata": {
    "tags": []
   },
   "source": [
    "pprint(completion.choices[0].message.content)"
   ]
  },
  {
   "cell_type": "markdown",
   "metadata": {},
   "source": [
    "### Few shot Prompting "
   ]
  },
  {
   "cell_type": "code",
   "execution_count": 11,
   "metadata": {
    "tags": []
   },
   "outputs": [],
   "source": [
    "from openai import OpenAI\n",
    "client = OpenAI()\n",
    "\n",
    "response = client.chat.completions.create(\n",
    "  model=\"gpt-3.5-turbo\",\n",
    "  messages=[\n",
    "    {\"role\": \"system\", \"content\": \"You are a helpful assistant.\"},\n",
    "    {\"role\": \"user\", \"content\": \"Who won the world series in 2020?\"},\n",
    "    {\"role\": \"assistant\", \"content\": \"The Los Angeles Dodgers won the World Series in 2020.\"},\n",
    "    {\"role\": \"user\", \"content\": \"Where was it played?\"}\n",
    "  ]\n",
    ")"
   ]
  },
  {
   "cell_type": "code",
   "execution_count": 12,
   "metadata": {
    "tags": []
   },
   "outputs": [
    {
     "data": {
      "text/plain": [
       "'The 2020 World Series was played in Arlington, Texas at Globe Life Field, the home stadium of the Texas Rangers.'"
      ]
     },
     "execution_count": 12,
     "metadata": {},
     "output_type": "execute_result"
    }
   ],
   "source": [
    "response.choices[0].message.content"
   ]
  },
  {
   "cell_type": "markdown",
   "metadata": {},
   "source": [
    "### delimiter and context"
   ]
  },
  {
   "cell_type": "code",
   "execution_count": 16,
   "metadata": {
    "tags": []
   },
   "outputs": [],
   "source": [
    "# articles = \"\"\"List of 2022 Winter Olympics medal winners\n",
    "\n",
    "# ==Curling==\n",
    "\n",
    "# {{main|Curling at the 2022 Winter Olympics}}\n",
    "# {|{{MedalistTable|type=Event|columns=1|width=225|labelwidth=200}}\n",
    "# |-valign=\"top\"\n",
    "# |Men<br/>{{DetailsLink|Curling at the 2022 Winter Olympics – Men's tournament}}\n",
    "# |{{flagIOC|SWE|2022 Winter}}<br/>[[Niklas Edin]]<br/>[[Oskar Eriksson]]<br/>[[Rasmus Wranå]]<br/>[[Christoffer Sundgren]]<br/>[[Daniel Magnusson (curler)|Daniel Magnusson]]\n",
    "# |{{flagIOC|GBR|2022 Winter}}<br/>[[Bruce Mouat]]<br/>[[Grant Hardie]]<br/>[[Bobby Lammie]]<br/>[[Hammy McMillan Jr.]]<br/>[[Ross Whyte]]\n",
    "# |{{flagIOC|CAN|2022 Winter}}<br/>[[Brad Gushue]]<br/>[[Mark Nichols (curler)|Mark Nichols]]<br/>[[Brett Gallant]]<br/>[[Geoff Walker (curler)|Geoff Walker]]<br/>[[Marc Kennedy]]\n",
    "# |-valign=\"top\"\n",
    "# |Women<br/>{{DetailsLink|Curling at the 2022 Winter Olympics – Women's tournament}}\n",
    "# |{{flagIOC|GBR|2022 Winter}}<br/>[[Eve Muirhead]]<br/>[[Vicky Wright]]<br/>[[Jennifer Dodds]]<br/>[[Hailey Duff]]<br/>[[Mili Smith]]\n",
    "# |{{flagIOC|JPN|2022 Winter}}<br/>[[Satsuki Fujisawa]]<br/>[[Chinami Yoshida]]<br/>[[Yumi Suzuki]]<br/>[[Yurika Yoshida]]<br/>[[Kotomi Ishizaki]]\n",
    "# |{{flagIOC|SWE|2022 Winter}}<br/>[[Anna Hasselborg]]<br/>[[Sara McManus]]<br/>[[Agnes Knochenhauer]]<br/>[[Sofia Mabergs]]<br/>[[Johanna Heldin]]\n",
    "# |-valign=\"top\"\n",
    "# |Mixed doubles<br/>{{DetailsLink|Curling at the 2022 Winter Olympics – Mixed doubles tournament}}\n",
    "# |{{flagIOC|ITA|2022 Winter}}<br/>[[Stefania Constantini]]<br/>[[Amos Mosaner]]\n",
    "# |{{flagIOC|NOR|2022 Winter}}<br/>[[Kristin Skaslien]]<br/>[[Magnus Nedregotten]]\n",
    "# |{{flagIOC|SWE|2022 Winter}}<br/>[[Almida de Val]]<br/>[[Oskar Eriksson]]\n",
    "# |}\n",
    "\n",
    "# Curling at the 2022 Winter Olympics\n",
    "\n",
    "# ==Results summary==\n",
    "\n",
    "# ===Women's tournament===\n",
    "\n",
    "# ====Playoffs====\n",
    "\n",
    "# =====Gold medal game=====\n",
    "\n",
    "# ''Sunday, 20 February, 9:05''\n",
    "# {{#lst:Curling at the 2022 Winter Olympics – Women's tournament|GM}}\n",
    "# {{Player percentages\n",
    "# | team1 = {{flagIOC|JPN|2022 Winter}}\n",
    "# | [[Yurika Yoshida]] | 97%\n",
    "# | [[Yumi Suzuki]] | 82%\n",
    "# | [[Chinami Yoshida]] | 64%\n",
    "# | [[Satsuki Fujisawa]] | 69%\n",
    "# | teampct1 = 78%\n",
    "# | team2 = {{flagIOC|GBR|2022 Winter}}\n",
    "# | [[Hailey Duff]] | 90%\n",
    "# | [[Jennifer Dodds]] | 89%\n",
    "# | [[Vicky Wright]] | 89%\n",
    "# | [[Eve Muirhead]] | 88%\n",
    "# | teampct2 = 89%\n",
    "# }}\"\"\"\n",
    "\n",
    "prompts = \"\"\"\n",
    "# General Analysis Queries\n",
    "\"\"\"\"What are the most important trends to note in the viewership data over the past month, considering views, watch time, and average view duration across different tables?\"\"\"\"\n",
    "\"\"\"\"Which videos have performed best in the last quarter, based on data from the dim_top10 table?\"\"\"\"\n",
    "\"\"\"\"How has the channel's subscriber growth rate changed over time, considering available data from all relevant tables?\"\"\"\"\n",
    "\"\"\"\"What are the key differences in viewership patterns based on device type, traffic source, viewer demographics, and content type, leveraging insights from all tables?\"\"\"\"\n",
    "\"\"\"\"Are there any correlations between specific video topics or formats and higher engagement metrics, as indicated by the data in dim_top10 and other tables?\"\"\"\"\n",
    "\n",
    "# Specific Data Requests\n",
    "\"\"\"\"Please provide a breakdown of views, watch time, and average view duration by device type for the past week, using data from raw_total and raw_gender tables.\"\"\"\"\n",
    "\"\"\"\"Show me the top 5 traffic sources that are driving the most views to the channel, based on available data.\"\"\"\"\n",
    "\"\"\"\"Identify the content types that have the highest average view duration, utilizing insights from dim_top10 and other relevant tables.\"\"\"\"\n",
    "\"\"\"\"Compare the viewership demographics for subscribers versus non-subscribers, drawing upon data from raw_gender and other tables.\"\"\"\"\n",
    "\"\"\"\"Analyze the impact of subtitles and closed captions on overall watch time, using data from raw_total and potentially other tables.\"\"\"\"\n",
    "\n",
    "# SQL Query Generation\n",
    "\"\"\"\"Generate the SQL query to retrieve the following data from the specified tables (clearly specify the desired data points and conditions).\"\"\"\"\n",
    "\"\"\"\"Translate this natural language question into an SQL query that can be run against the database: (ask your question in plain English, specifying any relevant tables).\"\"\"\"\n",
    "\n",
    "# Data Clarification\n",
    "\"\"\"\"Could you please clarify what you mean by X, and which tables or columns are relevant to your query?\"\"\"\"\n",
    "\"\"\"\"Could you provide an example of what you're looking for, specifying the tables and columns you'd like to focus on?\"\"\"\"\n",
    "\"\"\"\"I'm not sure I understand the question fully. Could you rephrase it, and indicate any specific tables or columns you're interested in?\"\"\"\"\n",
    "\n",
    "# Uncertainty Handling\n",
    "\"\"\"\"I'm not confident in providing an accurate answer to that question based on the available data in these tables. Would you like me to try generating an approximate response or seek further input?\"\"\"\"\n",
    "\"\"\"\"I'm unable to generate a query for that question due to ambiguity or potential data limitations. Could you please rephrase it or provide more specific details, including relevant tables and columns?\"\"\"\"\n",
    "\"\"\"\n"
   ]
  },
  {
   "cell_type": "code",
   "execution_count": 17,
   "metadata": {
    "tags": []
   },
   "outputs": [],
   "source": [
    "# system_message =f\"\"\"Use the provided articles delimited by xml tags to answer questions. If the answer cannot be found in the prompts, write I could not find an answer.\n",
    "# prompt: < {prompts} > \n",
    "# \"\"\"\n",
    "system_message = f\"\"\"\n",
    "<prompts>\n",
    "{prompts}\n",
    "</prompts>\n",
    "\"\"\""
   ]
  },
  {
   "cell_type": "code",
   "execution_count": 18,
   "metadata": {
    "tags": []
   },
   "outputs": [
    {
     "data": {
      "text/plain": [
       "487"
      ]
     },
     "execution_count": 18,
     "metadata": {},
     "output_type": "execute_result"
    }
   ],
   "source": [
    "count_token(system_message)"
   ]
  },
  {
   "cell_type": "code",
   "execution_count": 23,
   "metadata": {
    "tags": []
   },
   "outputs": [],
   "source": [
    "user_message = \"\"\"Query: What are the top 5 most viewed videos on the channel in the past month?\"\"\""
   ]
  },
  {
   "cell_type": "code",
   "execution_count": 25,
   "metadata": {
    "tags": []
   },
   "outputs": [
    {
     "data": {
      "text/plain": [
       "19"
      ]
     },
     "execution_count": 25,
     "metadata": {},
     "output_type": "execute_result"
    }
   ],
   "source": [
    "count_token(user_message)"
   ]
  },
  {
   "cell_type": "code",
   "execution_count": 26,
   "metadata": {
    "tags": []
   },
   "outputs": [],
   "source": [
    "from openai import OpenAI\n",
    "def get_gpt_response(system_message, user_message):\n",
    "    client = OpenAI()\n",
    "    response = client.chat.completions.create(\n",
    "        model=\"gpt-3.5-turbo\",\n",
    "        messages=[\n",
    "            {\n",
    "                \"role\": \"system\",\n",
    "                \"content\": system_message\n",
    "            },\n",
    "            {\n",
    "                \"role\": \"user\",\n",
    "                \"content\": user_message\n",
    "            }\n",
    "        ],\n",
    "        temperature=0,\n",
    "        max_tokens=1024,\n",
    "        top_p=1,\n",
    "        frequency_penalty=0,\n",
    "        presence_penalty=0\n",
    "    )\n",
    "\n",
    "    return response.choices[0].message.content\n"
   ]
  },
  {
   "cell_type": "code",
   "execution_count": 27,
   "metadata": {
    "tags": []
   },
   "outputs": [],
   "source": [
    "response = get_gpt_response(system_message, user_message)"
   ]
  },
  {
   "cell_type": "code",
   "execution_count": 28,
   "metadata": {
    "tags": []
   },
   "outputs": [
    {
     "data": {
      "text/plain": [
       "'SELECT video_title, views\\nFROM dim_top10\\nWHERE date >= DATE_SUB(CURRENT_DATE(), INTERVAL 1 MONTH)\\nORDER BY views DESC\\nLIMIT 5;'"
      ]
     },
     "execution_count": 28,
     "metadata": {},
     "output_type": "execute_result"
    }
   ],
   "source": [
    "response"
   ]
  },
  {
   "cell_type": "code",
   "execution_count": null,
   "metadata": {},
   "outputs": [],
   "source": []
  }
 ],
 "metadata": {
  "kernelspec": {
   "display_name": "Python 3 (ipykernel)",
   "language": "python",
   "name": "python3"
  },
  "language_info": {
   "codemirror_mode": {
    "name": "ipython",
    "version": 3
   },
   "file_extension": ".py",
   "mimetype": "text/x-python",
   "name": "python",
   "nbconvert_exporter": "python",
   "pygments_lexer": "ipython3",
   "version": "3.11.5"
  }
 },
 "nbformat": 4,
 "nbformat_minor": 4
}
