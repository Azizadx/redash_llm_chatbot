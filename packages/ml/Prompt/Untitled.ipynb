{
 "cells": [
  {
   "cell_type": "code",
   "execution_count": 5,
   "id": "0fe4e51e-c5c7-41b4-bd28-754accac9954",
   "metadata": {
    "tags": []
   },
   "outputs": [
    {
     "name": "stdout",
     "output_type": "stream",
     "text": [
      "\u001b[33mDEPRECATION: Loading egg at /Users/azizamed/anaconda3/lib/python3.11/site-packages/pandas-1.5.3-py3.11-macosx-10.9-x86_64.egg is deprecated. pip 24.3 will enforce this behaviour change. A possible replacement is to use pip for package installation.. Discussion can be found at https://github.com/pypa/pip/issues/12330\u001b[0m\u001b[33m\n",
      "\u001b[0m\u001b[33mDEPRECATION: Loading egg at /Users/azizamed/anaconda3/lib/python3.11/site-packages/psycopg2_binary-2.9.9-py3.11-macosx-10.9-x86_64.egg is deprecated. pip 24.3 will enforce this behaviour change. A possible replacement is to use pip for package installation.. Discussion can be found at https://github.com/pypa/pip/issues/12330\u001b[0m\u001b[33m\n",
      "\u001b[0m\u001b[33mDEPRECATION: Loading egg at /Users/azizamed/anaconda3/lib/python3.11/site-packages/fonttools-4.46.0-py3.11-macosx-10.9-x86_64.egg is deprecated. pip 24.3 will enforce this behaviour change. A possible replacement is to use pip for package installation.. Discussion can be found at https://github.com/pypa/pip/issues/12330\u001b[0m\u001b[33m\n",
      "\u001b[0m\u001b[33mDEPRECATION: Loading egg at /Users/azizamed/anaconda3/lib/python3.11/site-packages/User_Analytics_In_The_Telecommunication-0.0.1-py3.11.egg is deprecated. pip 24.3 will enforce this behaviour change. A possible replacement is to use pip for package installation.. Discussion can be found at https://github.com/pypa/pip/issues/12330\u001b[0m\u001b[33m\n",
      "\u001b[0mRequirement already satisfied: google-cloud in /Users/azizamed/anaconda3/lib/python3.11/site-packages (0.34.0)\n",
      "\u001b[33mDEPRECATION: Loading egg at /Users/azizamed/anaconda3/lib/python3.11/site-packages/pandas-1.5.3-py3.11-macosx-10.9-x86_64.egg is deprecated. pip 24.3 will enforce this behaviour change. A possible replacement is to use pip for package installation.. Discussion can be found at https://github.com/pypa/pip/issues/12330\u001b[0m\u001b[33m\n",
      "\u001b[0m\u001b[33mDEPRECATION: Loading egg at /Users/azizamed/anaconda3/lib/python3.11/site-packages/psycopg2_binary-2.9.9-py3.11-macosx-10.9-x86_64.egg is deprecated. pip 24.3 will enforce this behaviour change. A possible replacement is to use pip for package installation.. Discussion can be found at https://github.com/pypa/pip/issues/12330\u001b[0m\u001b[33m\n",
      "\u001b[0m\u001b[33mDEPRECATION: Loading egg at /Users/azizamed/anaconda3/lib/python3.11/site-packages/fonttools-4.46.0-py3.11-macosx-10.9-x86_64.egg is deprecated. pip 24.3 will enforce this behaviour change. A possible replacement is to use pip for package installation.. Discussion can be found at https://github.com/pypa/pip/issues/12330\u001b[0m\u001b[33m\n",
      "\u001b[0m\u001b[33mDEPRECATION: Loading egg at /Users/azizamed/anaconda3/lib/python3.11/site-packages/User_Analytics_In_The_Telecommunication-0.0.1-py3.11.egg is deprecated. pip 24.3 will enforce this behaviour change. A possible replacement is to use pip for package installation.. Discussion can be found at https://github.com/pypa/pip/issues/12330\u001b[0m\u001b[33m\n",
      "\u001b[0mRequirement already satisfied: google-cloud-bigquery[pandas] in /Users/azizamed/anaconda3/lib/python3.11/site-packages (3.14.1)\n",
      "Requirement already satisfied: google-api-core!=2.0.*,!=2.1.*,!=2.2.*,!=2.3.0,<3.0.0dev,>=1.31.5 in /Users/azizamed/anaconda3/lib/python3.11/site-packages (from google-cloud-bigquery[pandas]) (2.15.0)\n",
      "Requirement already satisfied: google-cloud-core<3.0.0dev,>=1.6.0 in /Users/azizamed/anaconda3/lib/python3.11/site-packages (from google-cloud-bigquery[pandas]) (2.4.1)\n",
      "Requirement already satisfied: google-resumable-media<3.0dev,>=0.6.0 in /Users/azizamed/anaconda3/lib/python3.11/site-packages (from google-cloud-bigquery[pandas]) (2.7.0)\n",
      "Requirement already satisfied: packaging>=20.0.0 in /Users/azizamed/anaconda3/lib/python3.11/site-packages (from google-cloud-bigquery[pandas]) (23.1)\n",
      "Requirement already satisfied: python-dateutil<3.0dev,>=2.7.2 in /Users/azizamed/anaconda3/lib/python3.11/site-packages (from google-cloud-bigquery[pandas]) (2.8.2)\n",
      "Requirement already satisfied: requests<3.0.0dev,>=2.21.0 in /Users/azizamed/anaconda3/lib/python3.11/site-packages (from google-cloud-bigquery[pandas]) (2.31.0)\n",
      "Requirement already satisfied: pandas>=1.1.0 in /Users/azizamed/anaconda3/lib/python3.11/site-packages/pandas-1.5.3-py3.11-macosx-10.9-x86_64.egg (from google-cloud-bigquery[pandas]) (1.5.3)\n",
      "Requirement already satisfied: pyarrow>=3.0.0 in /Users/azizamed/anaconda3/lib/python3.11/site-packages (from google-cloud-bigquery[pandas]) (11.0.0)\n",
      "Requirement already satisfied: db-dtypes<2.0.0dev,>=0.3.0 in /Users/azizamed/anaconda3/lib/python3.11/site-packages (from google-cloud-bigquery[pandas]) (1.2.0)\n",
      "Requirement already satisfied: numpy>=1.16.6 in /Users/azizamed/anaconda3/lib/python3.11/site-packages (from db-dtypes<2.0.0dev,>=0.3.0->google-cloud-bigquery[pandas]) (1.24.3)\n",
      "Requirement already satisfied: googleapis-common-protos<2.0.dev0,>=1.56.2 in /Users/azizamed/anaconda3/lib/python3.11/site-packages (from google-api-core!=2.0.*,!=2.1.*,!=2.2.*,!=2.3.0,<3.0.0dev,>=1.31.5->google-cloud-bigquery[pandas]) (1.62.0)\n",
      "Requirement already satisfied: protobuf!=3.20.0,!=3.20.1,!=4.21.0,!=4.21.1,!=4.21.2,!=4.21.3,!=4.21.4,!=4.21.5,<5.0.0.dev0,>=3.19.5 in /Users/azizamed/anaconda3/lib/python3.11/site-packages (from google-api-core!=2.0.*,!=2.1.*,!=2.2.*,!=2.3.0,<3.0.0dev,>=1.31.5->google-cloud-bigquery[pandas]) (4.25.1)\n",
      "Requirement already satisfied: google-auth<3.0.dev0,>=2.14.1 in /Users/azizamed/anaconda3/lib/python3.11/site-packages (from google-api-core!=2.0.*,!=2.1.*,!=2.2.*,!=2.3.0,<3.0.0dev,>=1.31.5->google-cloud-bigquery[pandas]) (2.26.1)\n",
      "Requirement already satisfied: google-crc32c<2.0dev,>=1.0 in /Users/azizamed/anaconda3/lib/python3.11/site-packages (from google-resumable-media<3.0dev,>=0.6.0->google-cloud-bigquery[pandas]) (1.5.0)\n",
      "Requirement already satisfied: pytz>=2020.1 in /Users/azizamed/anaconda3/lib/python3.11/site-packages (from pandas>=1.1.0->google-cloud-bigquery[pandas]) (2023.3.post1)\n",
      "Requirement already satisfied: six>=1.5 in /Users/azizamed/anaconda3/lib/python3.11/site-packages (from python-dateutil<3.0dev,>=2.7.2->google-cloud-bigquery[pandas]) (1.16.0)\n",
      "Requirement already satisfied: charset-normalizer<4,>=2 in /Users/azizamed/anaconda3/lib/python3.11/site-packages (from requests<3.0.0dev,>=2.21.0->google-cloud-bigquery[pandas]) (2.0.4)\n",
      "Requirement already satisfied: idna<4,>=2.5 in /Users/azizamed/anaconda3/lib/python3.11/site-packages (from requests<3.0.0dev,>=2.21.0->google-cloud-bigquery[pandas]) (3.4)\n",
      "Requirement already satisfied: urllib3<3,>=1.21.1 in /Users/azizamed/anaconda3/lib/python3.11/site-packages (from requests<3.0.0dev,>=2.21.0->google-cloud-bigquery[pandas]) (1.26.16)\n",
      "Requirement already satisfied: certifi>=2017.4.17 in /Users/azizamed/anaconda3/lib/python3.11/site-packages (from requests<3.0.0dev,>=2.21.0->google-cloud-bigquery[pandas]) (2023.7.22)\n",
      "Requirement already satisfied: cachetools<6.0,>=2.0.0 in /Users/azizamed/anaconda3/lib/python3.11/site-packages (from google-auth<3.0.dev0,>=2.14.1->google-api-core!=2.0.*,!=2.1.*,!=2.2.*,!=2.3.0,<3.0.0dev,>=1.31.5->google-cloud-bigquery[pandas]) (5.3.2)\n",
      "Requirement already satisfied: pyasn1-modules>=0.2.1 in /Users/azizamed/anaconda3/lib/python3.11/site-packages (from google-auth<3.0.dev0,>=2.14.1->google-api-core!=2.0.*,!=2.1.*,!=2.2.*,!=2.3.0,<3.0.0dev,>=1.31.5->google-cloud-bigquery[pandas]) (0.2.8)\n",
      "Requirement already satisfied: rsa<5,>=3.1.4 in /Users/azizamed/anaconda3/lib/python3.11/site-packages (from google-auth<3.0.dev0,>=2.14.1->google-api-core!=2.0.*,!=2.1.*,!=2.2.*,!=2.3.0,<3.0.0dev,>=1.31.5->google-cloud-bigquery[pandas]) (4.9)\n",
      "Requirement already satisfied: pyasn1<0.5.0,>=0.4.6 in /Users/azizamed/anaconda3/lib/python3.11/site-packages (from pyasn1-modules>=0.2.1->google-auth<3.0.dev0,>=2.14.1->google-api-core!=2.0.*,!=2.1.*,!=2.2.*,!=2.3.0,<3.0.0dev,>=1.31.5->google-cloud-bigquery[pandas]) (0.4.8)\n",
      "\u001b[33mDEPRECATION: Loading egg at /Users/azizamed/anaconda3/lib/python3.11/site-packages/pandas-1.5.3-py3.11-macosx-10.9-x86_64.egg is deprecated. pip 24.3 will enforce this behaviour change. A possible replacement is to use pip for package installation.. Discussion can be found at https://github.com/pypa/pip/issues/12330\u001b[0m\u001b[33m\n",
      "\u001b[0m\u001b[33mDEPRECATION: Loading egg at /Users/azizamed/anaconda3/lib/python3.11/site-packages/psycopg2_binary-2.9.9-py3.11-macosx-10.9-x86_64.egg is deprecated. pip 24.3 will enforce this behaviour change. A possible replacement is to use pip for package installation.. Discussion can be found at https://github.com/pypa/pip/issues/12330\u001b[0m\u001b[33m\n",
      "\u001b[0m\u001b[33mDEPRECATION: Loading egg at /Users/azizamed/anaconda3/lib/python3.11/site-packages/fonttools-4.46.0-py3.11-macosx-10.9-x86_64.egg is deprecated. pip 24.3 will enforce this behaviour change. A possible replacement is to use pip for package installation.. Discussion can be found at https://github.com/pypa/pip/issues/12330\u001b[0m\u001b[33m\n",
      "\u001b[0m\u001b[33mDEPRECATION: Loading egg at /Users/azizamed/anaconda3/lib/python3.11/site-packages/User_Analytics_In_The_Telecommunication-0.0.1-py3.11.egg is deprecated. pip 24.3 will enforce this behaviour change. A possible replacement is to use pip for package installation.. Discussion can be found at https://github.com/pypa/pip/issues/12330\u001b[0m\u001b[33m\n",
      "\u001b[0mRequirement already satisfied: google-cloud-storage in /Users/azizamed/anaconda3/lib/python3.11/site-packages (2.14.0)\n",
      "Requirement already satisfied: google-auth<3.0dev,>=2.23.3 in /Users/azizamed/anaconda3/lib/python3.11/site-packages (from google-cloud-storage) (2.26.1)\n",
      "Requirement already satisfied: google-api-core!=2.0.*,!=2.1.*,!=2.2.*,!=2.3.0,<3.0.0dev,>=1.31.5 in /Users/azizamed/anaconda3/lib/python3.11/site-packages (from google-cloud-storage) (2.15.0)\n",
      "Requirement already satisfied: google-cloud-core<3.0dev,>=2.3.0 in /Users/azizamed/anaconda3/lib/python3.11/site-packages (from google-cloud-storage) (2.4.1)\n",
      "Requirement already satisfied: google-resumable-media>=2.6.0 in /Users/azizamed/anaconda3/lib/python3.11/site-packages (from google-cloud-storage) (2.7.0)\n",
      "Requirement already satisfied: requests<3.0.0dev,>=2.18.0 in /Users/azizamed/anaconda3/lib/python3.11/site-packages (from google-cloud-storage) (2.31.0)\n",
      "Requirement already satisfied: google-crc32c<2.0dev,>=1.0 in /Users/azizamed/anaconda3/lib/python3.11/site-packages (from google-cloud-storage) (1.5.0)\n",
      "Requirement already satisfied: googleapis-common-protos<2.0.dev0,>=1.56.2 in /Users/azizamed/anaconda3/lib/python3.11/site-packages (from google-api-core!=2.0.*,!=2.1.*,!=2.2.*,!=2.3.0,<3.0.0dev,>=1.31.5->google-cloud-storage) (1.62.0)\n",
      "Requirement already satisfied: protobuf!=3.20.0,!=3.20.1,!=4.21.0,!=4.21.1,!=4.21.2,!=4.21.3,!=4.21.4,!=4.21.5,<5.0.0.dev0,>=3.19.5 in /Users/azizamed/anaconda3/lib/python3.11/site-packages (from google-api-core!=2.0.*,!=2.1.*,!=2.2.*,!=2.3.0,<3.0.0dev,>=1.31.5->google-cloud-storage) (4.25.1)\n",
      "Requirement already satisfied: cachetools<6.0,>=2.0.0 in /Users/azizamed/anaconda3/lib/python3.11/site-packages (from google-auth<3.0dev,>=2.23.3->google-cloud-storage) (5.3.2)\n",
      "Requirement already satisfied: pyasn1-modules>=0.2.1 in /Users/azizamed/anaconda3/lib/python3.11/site-packages (from google-auth<3.0dev,>=2.23.3->google-cloud-storage) (0.2.8)\n",
      "Requirement already satisfied: rsa<5,>=3.1.4 in /Users/azizamed/anaconda3/lib/python3.11/site-packages (from google-auth<3.0dev,>=2.23.3->google-cloud-storage) (4.9)\n",
      "Requirement already satisfied: charset-normalizer<4,>=2 in /Users/azizamed/anaconda3/lib/python3.11/site-packages (from requests<3.0.0dev,>=2.18.0->google-cloud-storage) (2.0.4)\n",
      "Requirement already satisfied: idna<4,>=2.5 in /Users/azizamed/anaconda3/lib/python3.11/site-packages (from requests<3.0.0dev,>=2.18.0->google-cloud-storage) (3.4)\n",
      "Requirement already satisfied: urllib3<3,>=1.21.1 in /Users/azizamed/anaconda3/lib/python3.11/site-packages (from requests<3.0.0dev,>=2.18.0->google-cloud-storage) (1.26.16)\n",
      "Requirement already satisfied: certifi>=2017.4.17 in /Users/azizamed/anaconda3/lib/python3.11/site-packages (from requests<3.0.0dev,>=2.18.0->google-cloud-storage) (2023.7.22)\n",
      "Requirement already satisfied: pyasn1<0.5.0,>=0.4.6 in /Users/azizamed/anaconda3/lib/python3.11/site-packages (from pyasn1-modules>=0.2.1->google-auth<3.0dev,>=2.23.3->google-cloud-storage) (0.4.8)\n"
     ]
    }
   ],
   "source": [
    "!pip install google-cloud --user\n",
    "!pip install --upgrade google-cloud-bigquery[pandas] --user\n",
    "!pip install google-cloud-storage --user"
   ]
  },
  {
   "cell_type": "code",
   "execution_count": 1,
   "id": "6fe62f53-9e11-4afd-8aed-30197ad678ba",
   "metadata": {
    "tags": []
   },
   "outputs": [],
   "source": [
    "import logging\n",
    "import json\n",
    "import os\n",
    "from datetime import datetime\n",
    "import pprint\n",
    "\n",
    "# Default scope to get access token\n",
    "_SCOPE = 'https://www.googleapis.com/auth/cloud-platform'\n",
    "from google.cloud import bigquery\n",
    "client = bigquery.Client.from_service_account_json('../../data_warehousing/data_warehousing/include/gcp/service_account.json')"
   ]
  },
  {
   "cell_type": "code",
   "execution_count": 2,
   "id": "147cb073-2e5b-4de0-861d-311a2218e0c5",
   "metadata": {
    "tags": []
   },
   "outputs": [],
   "source": [
    "QUERY = (\n",
    "\n",
    "    'SELECT DISTINCT City_name FROM `ariflow-tutorial.youtube.raw_cities`')\n",
    "query_job = client.query(QUERY)  # API request\n",
    "rows = query_job.result()\n",
    "df=rows.to_dataframe()"
   ]
  },
  {
   "cell_type": "code",
   "execution_count": 3,
   "id": "db5a88e1-3b7a-452c-8438-36238f0bb318",
   "metadata": {
    "tags": []
   },
   "outputs": [
    {
     "data": {
      "text/html": [
       "<div>\n",
       "<style scoped>\n",
       "    .dataframe tbody tr th:only-of-type {\n",
       "        vertical-align: middle;\n",
       "    }\n",
       "\n",
       "    .dataframe tbody tr th {\n",
       "        vertical-align: top;\n",
       "    }\n",
       "\n",
       "    .dataframe thead th {\n",
       "        text-align: right;\n",
       "    }\n",
       "</style>\n",
       "<table border=\"1\" class=\"dataframe\">\n",
       "  <thead>\n",
       "    <tr style=\"text-align: right;\">\n",
       "      <th></th>\n",
       "      <th>City_name</th>\n",
       "    </tr>\n",
       "  </thead>\n",
       "  <tbody>\n",
       "    <tr>\n",
       "      <th>0</th>\n",
       "      <td>None</td>\n",
       "    </tr>\n",
       "    <tr>\n",
       "      <th>1</th>\n",
       "      <td>Addis Ababa</td>\n",
       "    </tr>\n",
       "    <tr>\n",
       "      <th>2</th>\n",
       "      <td>Manchester</td>\n",
       "    </tr>\n",
       "    <tr>\n",
       "      <th>3</th>\n",
       "      <td>Busan</td>\n",
       "    </tr>\n",
       "    <tr>\n",
       "      <th>4</th>\n",
       "      <td>Khartoum</td>\n",
       "    </tr>\n",
       "    <tr>\n",
       "      <th>5</th>\n",
       "      <td>Quezon City</td>\n",
       "    </tr>\n",
       "    <tr>\n",
       "      <th>6</th>\n",
       "      <td>Colombo</td>\n",
       "    </tr>\n",
       "    <tr>\n",
       "      <th>7</th>\n",
       "      <td>Cotonou</td>\n",
       "    </tr>\n",
       "    <tr>\n",
       "      <th>8</th>\n",
       "      <td>Lucknow</td>\n",
       "    </tr>\n",
       "  </tbody>\n",
       "</table>\n",
       "</div>"
      ],
      "text/plain": [
       "     City_name\n",
       "0         None\n",
       "1  Addis Ababa\n",
       "2   Manchester\n",
       "3        Busan\n",
       "4     Khartoum\n",
       "5  Quezon City\n",
       "6      Colombo\n",
       "7      Cotonou\n",
       "8      Lucknow"
      ]
     },
     "execution_count": 3,
     "metadata": {},
     "output_type": "execute_result"
    }
   ],
   "source": [
    "df"
   ]
  },
  {
   "cell_type": "code",
   "execution_count": 4,
   "id": "ab0ede84-d005-466e-9f20-a825bae2cd75",
   "metadata": {
    "tags": []
   },
   "outputs": [
    {
     "data": {
      "text/plain": [
       "<bound method NDFrame.describe of      City_name\n",
       "0         None\n",
       "1  Addis Ababa\n",
       "2   Manchester\n",
       "3        Busan\n",
       "4     Khartoum\n",
       "5  Quezon City\n",
       "6      Colombo\n",
       "7      Cotonou\n",
       "8      Lucknow>"
      ]
     },
     "execution_count": 4,
     "metadata": {},
     "output_type": "execute_result"
    }
   ],
   "source": [
    "df.describe"
   ]
  },
  {
   "cell_type": "code",
   "execution_count": 5,
   "id": "00877ae0-38ba-4d9d-8677-3d8d79883bc2",
   "metadata": {
    "tags": []
   },
   "outputs": [],
   "source": [
    "def get_table_names(client, dataset_id):\n",
    "    \"\"\"Return a list of table names in the specified dataset.\"\"\"\n",
    "    table_names = []\n",
    "    dataset_ref = client.dataset(dataset_id)\n",
    "    \n",
    "    # List tables in the dataset\n",
    "    tables = client.list_tables(dataset_ref)\n",
    "    \n",
    "    for table in tables:\n",
    "        table_names.append(table.table_id)\n",
    "    \n",
    "    return table_names"
   ]
  },
  {
   "cell_type": "code",
   "execution_count": 6,
   "id": "6786fe3e-35f7-4a82-8960-e355eebb2358",
   "metadata": {
    "tags": []
   },
   "outputs": [
    {
     "data": {
      "text/plain": [
       "['dim_dail_view_7day', 'dim_top10', 'raw_cities', 'raw_gender', 'raw_total']"
      ]
     },
     "execution_count": 6,
     "metadata": {},
     "output_type": "execute_result"
    }
   ],
   "source": [
    "get_table_names(client,'youtube')"
   ]
  },
  {
   "cell_type": "code",
   "execution_count": 85,
   "id": "b17f341d-5369-47fc-baa0-2ba2560fc2dc",
   "metadata": {
    "tags": []
   },
   "outputs": [],
   "source": [
    "def get_column_names(client, dataset_id, table_name):\n",
    "    \"\"\"Return a list of column names for the specified table.\"\"\"\n",
    "    column_names = []\n",
    "    table_ref = client.dataset(dataset_id).table(table_name)\n",
    "    table = client.get_table(table_ref)\n",
    "    for field in table.schema:\n",
    "        column_names.append(field.name)\n",
    "    return column_names"
   ]
  },
  {
   "cell_type": "code",
   "execution_count": 86,
   "id": "b2dcf8ce-c16d-4bfe-9bd1-0c7b5684ea50",
   "metadata": {
    "tags": []
   },
   "outputs": [
    {
     "data": {
      "text/plain": [
       "['Cities',\n",
       " 'City_name',\n",
       " 'Geography',\n",
       " 'Geography_3',\n",
       " 'Views',\n",
       " 'Watch_time__hours_',\n",
       " 'Average_view_duration']"
      ]
     },
     "execution_count": 86,
     "metadata": {},
     "output_type": "execute_result"
    }
   ],
   "source": [
    "get_column_names(client,'youtube','raw_cities')"
   ]
  },
  {
   "cell_type": "code",
   "execution_count": 87,
   "id": "2e6a3d27-5040-4efc-b59f-a19e2e8ce334",
   "metadata": {
    "tags": []
   },
   "outputs": [],
   "source": [
    "def get_database_info(client, dataset_id):\n",
    "    \"\"\"Return a list of dicts containing the table name and columns for each table in the dataset.\"\"\"\n",
    "    table_dicts = []\n",
    "    for table_name in get_table_names(client, dataset_id):\n",
    "        column_names = get_column_names(client, dataset_id, table_name)\n",
    "        table_dicts.append({\"table_name\": table_name, \"column_names\": column_names})\n",
    "    return table_dicts"
   ]
  },
  {
   "cell_type": "code",
   "execution_count": 88,
   "id": "828895fe-a1b9-44c8-bc82-b9fa71f1939c",
   "metadata": {
    "tags": []
   },
   "outputs": [
    {
     "data": {
      "text/plain": [
       "[{'table_name': 'dim_dail_view_7day',\n",
       "  'column_names': ['Date', 'RollingAverageViews']},\n",
       " {'table_name': 'dim_top10', 'column_names': ['Date', 'TotalViews']},\n",
       " {'table_name': 'raw_cities',\n",
       "  'column_names': ['Cities',\n",
       "   'City_name',\n",
       "   'Geography',\n",
       "   'Geography_3',\n",
       "   'Views',\n",
       "   'Watch_time__hours_',\n",
       "   'Average_view_duration']},\n",
       " {'table_name': 'raw_gender',\n",
       "  'column_names': ['Date',\n",
       "   'Views',\n",
       "   'Watch_time__hours_',\n",
       "   'Average_view_duration']},\n",
       " {'table_name': 'raw_total', 'column_names': ['Date', 'Views']}]"
      ]
     },
     "execution_count": 88,
     "metadata": {},
     "output_type": "execute_result"
    }
   ],
   "source": [
    "get_database_info(client,'youtube')"
   ]
  },
  {
   "cell_type": "code",
   "execution_count": 10,
   "id": "ef7d6d1d-b104-4c12-a697-85ceb0e8d3da",
   "metadata": {},
   "outputs": [],
   "source": [
    "import openai\n",
    "import os\n",
    "import json \n",
    "import requests\n",
    "from pprint import pprint\n",
    "import json\n",
    "import tiktoken\n",
    "import openai\n",
    "import requests\n",
    "from tenacity import retry, wait_random_exponential, stop_after_attempt\n",
    "from termcolor import colored\n",
    "GPT_MODEL = \"gpt-4-1106-preview\""
   ]
  },
  {
   "cell_type": "code",
   "execution_count": 11,
   "id": "f1b05c04-275e-4b54-9ddc-d0191d096103",
   "metadata": {
    "tags": []
   },
   "outputs": [],
   "source": [
    "from dotenv import load_dotenv, find_dotenv\n",
    "from openai import OpenAI\n",
    "_ = load_dotenv(find_dotenv())\n",
    "openai.api_key  = os.getenv('OPENAI_API_KEY')"
   ]
  },
  {
   "cell_type": "code",
   "execution_count": 12,
   "id": "0ef69bcf-03c7-4096-9966-45a8f15e9a76",
   "metadata": {
    "tags": []
   },
   "outputs": [],
   "source": [
    "from openai import OpenAI\n",
    "client = OpenAI()\n",
    "\n",
    "response = client.chat.completions.create(\n",
    "  model=\"gpt-4-1106-preview\",\n",
    "  messages=[\n",
    "    {\"role\": \"system\", \"content\": \"You are a helpful assistant.\"},\n",
    "    {\"role\": \"user\", \"content\": \"Who won the world series in 2020?\"},\n",
    "    {\"role\": \"assistant\", \"content\": \"The Los Angeles Dodgers won the World Series in 2020.\"},\n",
    "    {\"role\": \"user\", \"content\": \"Where was it played?\"}\n",
    "  ]\n",
    ")"
   ]
  },
  {
   "cell_type": "code",
   "execution_count": 13,
   "id": "194c5d6e-fbb1-47fb-be0d-d3f32c4c7987",
   "metadata": {
    "tags": []
   },
   "outputs": [
    {
     "data": {
      "text/plain": [
       "'The 2020 World Series was played at Globe Life Field in Arlington, Texas. This location was chosen as a neutral site to minimize travel and potential exposure to COVID-19, marking the first time in modern history that the World Series was held at a neutral location and the entire series at one ballpark.'"
      ]
     },
     "execution_count": 13,
     "metadata": {},
     "output_type": "execute_result"
    }
   ],
   "source": [
    "response.choices[0].message.content"
   ]
  },
  {
   "cell_type": "code",
   "execution_count": 43,
   "id": "2f76c92d-03f8-42eb-850c-faf4b091dd2f",
   "metadata": {
    "tags": []
   },
   "outputs": [],
   "source": [
    "@retry(wait=wait_random_exponential(multiplier=1, max=40), stop=stop_after_attempt(3))\n",
    "def chat_completion_request(messages, tools=None, tool_choice=None, model=GPT_MODEL):\n",
    "    headers = {\n",
    "        \"Content-Type\": \"application/json\",\n",
    "        \"Authorization\": \"Bearer \" + openai.api_key,\n",
    "    }\n",
    "    json_data = {\"model\": model, \"messages\": messages}\n",
    "    if tools is not None:\n",
    "        json_data.update({\"tools\": tools})\n",
    "    if tool_choice is not None:\n",
    "        json_data.update({\"tool_choice\": tool_choice})\n",
    "    try:\n",
    "        response = requests.post(\n",
    "            \"https://api.openai.com/v1/chat/completions\",\n",
    "            headers=headers,\n",
    "            json=json_data,\n",
    "        )\n",
    "        \n",
    "        return response\n",
    "    except Exception as e:\n",
    "        print(\"Unable to generate ChatCompletion response\")\n",
    "        print(f\"Exception: {e}\")\n",
    "        return e"
   ]
  },
  {
   "cell_type": "code",
   "execution_count": 27,
   "id": "068cf917-8696-4c9c-9bc7-b1607f308466",
   "metadata": {
    "tags": []
   },
   "outputs": [],
   "source": [
    "# import gcp \n",
    "_SCOPE = 'https://www.googleapis.com/auth/cloud-platform'\n",
    "from google.cloud import bigquery\n",
    "client = bigquery.Client.from_service_account_json('../../data_warehousing/data_warehousing/include/gcp/service_account.json')"
   ]
  },
  {
   "cell_type": "code",
   "execution_count": 51,
   "id": "1cf378f8-8943-4262-a821-c478963e235f",
   "metadata": {
    "tags": []
   },
   "outputs": [],
   "source": [
    "def pretty_print_conversation(messages):\n",
    "    role_to_color = {\n",
    "        \"system\": \"red\",\n",
    "        \"user\": \"green\",\n",
    "        \"assistant\": \"blue\",\n",
    "        \"tool\": \"magenta\",\n",
    "    }\n",
    "    \n",
    "    for message in messages:\n",
    "        if message[\"role\"] == \"system\":\n",
    "            print(colored(f\"system: {message['content']}\\n\", role_to_color[message[\"role\"]]))\n",
    "        elif message[\"role\"] == \"user\":\n",
    "            print(colored(f\"user: {message['content']}\\n\", role_to_color[message[\"role\"]]))\n",
    "        elif message[\"role\"] == \"assistant\" and message.get(\"function_call\"):\n",
    "            print(colored(f\"assistant: {message['function_call']}\\n\", role_to_color[message[\"role\"]]))\n",
    "        elif message[\"role\"] == \"assistant\" and not message.get(\"function_call\"):\n",
    "            print(colored(f\"assistant: {message['content']}\\n\", role_to_color[message[\"role\"]]))\n",
    "        elif message[\"role\"] == \"tool\":\n",
    "            print(colored(f\"function ({message['name']}): {message['content']}\\n\", role_to_color[message[\"role\"]]))\n"
   ]
  },
  {
   "cell_type": "code",
   "execution_count": 52,
   "id": "69fec6bb-d493-4035-93f6-1ffa9f9875ba",
   "metadata": {
    "tags": []
   },
   "outputs": [],
   "source": [
    "def get_table_names(client, dataset_id):\n",
    "    \"\"\"Return a list of table names in the specified dataset.\"\"\"\n",
    "    table_names = []\n",
    "    dataset_ref = client.dataset(dataset_id)\n",
    "    # List tables in the dataset\n",
    "    tables = client.list_tables(dataset_ref)\n",
    "    for table in tables:\n",
    "        table_names.append(table.table_id)\n",
    "    return table_names\n",
    "\n",
    "\n",
    "def get_column_names(client, dataset_id, table_name):\n",
    "    \"\"\"Return a list of column names for the specified table.\"\"\"\n",
    "    column_names = []\n",
    "    table_ref = client.dataset(dataset_id).table(table_name)\n",
    "    table = client.get_table(table_ref)\n",
    "    for field in table.schema:\n",
    "        column_names.append(field.name)\n",
    "    return column_names\n",
    "\n",
    "def get_database_info(client, dataset_id):\n",
    "    \"\"\"Return a list of dicts containing the table name and columns for each table in the dataset.\"\"\"\n",
    "    table_dicts = []\n",
    "    for table_name in get_table_names(client, dataset_id):\n",
    "        column_names = get_column_names(client, dataset_id, table_name)\n",
    "        table_dicts.append({\"table_name\": table_name, \"column_names\": column_names})\n",
    "    return table_dicts\n"
   ]
  },
  {
   "cell_type": "code",
   "execution_count": 53,
   "id": "61d1473b-0810-4d9f-9a30-9bb7c29b0e9d",
   "metadata": {
    "tags": []
   },
   "outputs": [],
   "source": [
    "database_schema_dict = get_database_info(client,'youtube')\n",
    "database_schema_string = \"\\n\".join(\n",
    "    [\n",
    "        f\"Table: {table['table_name']}\\nColumns: {', '.join(table['column_names'])}\"\n",
    "        for table in database_schema_dict\n",
    "    ]\n",
    ")"
   ]
  },
  {
   "cell_type": "code",
   "execution_count": 54,
   "id": "bb7e282a-5dc7-42c8-a421-152cf47912e7",
   "metadata": {
    "tags": []
   },
   "outputs": [
    {
     "name": "stdout",
     "output_type": "stream",
     "text": [
      "Table: dim_dail_view_7day\n",
      "Columns: Date, RollingAverageViews\n",
      "Table: dim_top10\n",
      "Columns: Date, TotalViews\n",
      "Table: raw_cities\n",
      "Columns: Cities, City_name, Geography, Geography_3, Views, Watch_time__hours_, Average_view_duration\n",
      "Table: raw_gender\n",
      "Columns: Date, Views, Watch_time__hours_, Average_view_duration\n",
      "Table: raw_total\n",
      "Columns: Date, Views\n"
     ]
    }
   ],
   "source": [
    "print(database_schema_string)"
   ]
  },
  {
   "cell_type": "code",
   "execution_count": 55,
   "id": "20b2ff16-7cc0-49fc-bca1-0c8461655255",
   "metadata": {
    "tags": []
   },
   "outputs": [],
   "source": [
    "prompts = \"\"\"\n",
    "# General Analysis Queries\n",
    "\"\"\"\"What are the most important trends to note in the viewership data over the past month, considering views, watch time, and average view duration across different tables?\"\"\"\"\n",
    "\"\"\"\"Which videos have performed best in the last quarter, based on data from the dim_top10 table?\"\"\"\"\n",
    "...\n",
    "\n",
    "# Specific Data Requests\n",
    "\"\"\"\"Please provide a breakdown of views, watch time, and average view duration by device type for the past week, using data from raw_total and raw_gender tables.\"\"\"\"\n",
    "\"\"\"\"Show me the top 5 traffic sources that are driving the most views to the channel, based on available data.\"\"\"\"\n",
    "...\n",
    "\n",
    "# SQL Query Generation\n",
    "\"\"\"\"Generate the SQL query to retrieve the following data from the specified tables (clearly specify the desired data points and conditions).\"\"\"\"\n",
    "\"\"\"\"Translate this natural language question into an SQL query that can be run against the database: (ask your question in plain English, specifying any relevant tables).\"\"\"\"\n",
    "...\n",
    "\n",
    "# Data Clarification\n",
    "\"\"\"\"Could you please clarify what you mean by X, and which tables or columns are relevant to your query?\"\"\"\"\n",
    "\"\"\"\"Could you provide an example of what you're looking for, specifying the tables and columns you'd like to focus on?\"\"\"\"\n",
    "...\n",
    "\n",
    "# Uncertainty Handling\n",
    "\"\"\"\"I'm not confident in providing an accurate answer to that question based on the available data in these tables. Would you like me to try generating an approximate response or seek further input?\"\"\"\"\n",
    "\"\"\"\"I'm unable to generate a query for that question due to ambiguity or potential data limitations. Could you please rephrase it or provide more specific details, including relevant tables and columns?\"\"\"\"\n",
    "\n",
    "# Additional Tables and Descriptions\n",
    "- dim_dail_view_7day: Daily Views Trend (7-Day Rolling Average)\n",
    "  Columns: Date, RollingAverageViews\n",
    "  Example Table Data: Detailed description about the table\n",
    "\n",
    "- dim_top10: Top 10 Days by Views\n",
    "  Columns: Date, TotalViews\n",
    "  Example Table Data: Detailed description about the table\n",
    "\n",
    "- raw_cities: List of all cities\n",
    "  Columns: Cities, City_name, Geography, Geography_3, Views, Watch_time__hours_, Average_view_duration\n",
    "  e.g: \n",
    "      0x164b85cef5ab402d:0x8467b6b037a24d49\n",
    "      Addis Ababa\n",
    "        ET\n",
    "        ET-AA\n",
    "        1252\n",
    "        127.5042\n",
    "    00:06:06\n",
    "  Example Table Data: Detailed description about the table\n",
    "\n",
    "- raw_total: Total views by daily Date column is in this format yyy-mm-dd\n",
    "  Columns: Date, Views\n",
    "  Example Table Data: Detailed description about the table\n",
    "\"\"\""
   ]
  },
  {
   "cell_type": "code",
   "execution_count": 56,
   "id": "153b1ae8-1312-4cb9-8526-6ac61e024281",
   "metadata": {
    "tags": []
   },
   "outputs": [],
   "source": [
    "system_message = f\"\"\"\n",
    "<prompts>\n",
    "{prompts}\n",
    "</prompts>\n",
    "\"\"\""
   ]
  },
  {
   "cell_type": "code",
   "execution_count": 57,
   "id": "24902d0e-7086-4e07-b241-e1568e835389",
   "metadata": {
    "tags": []
   },
   "outputs": [],
   "source": [
    "def count_token(input, model_name=GPT_MODEL, debug=False):\n",
    "        encoding = tiktoken.encoding_for_model(model_name)\n",
    "        codex = \" \".join(input.splitlines())  # Join lines into a single string\n",
    "        num_tokens = len(encoding.encode(codex))\n",
    "        return num_tokens"
   ]
  },
  {
   "cell_type": "code",
   "execution_count": 58,
   "id": "36200def-7347-48ee-b955-dfe9dc0be690",
   "metadata": {
    "tags": []
   },
   "outputs": [
    {
     "data": {
      "text/plain": [
       "523"
      ]
     },
     "execution_count": 58,
     "metadata": {},
     "output_type": "execute_result"
    }
   ],
   "source": [
    "count_token(system_message)"
   ]
  },
  {
   "cell_type": "code",
   "execution_count": 59,
   "id": "f07788d7-2d48-4d8e-9010-da5cc09186d3",
   "metadata": {
    "tags": []
   },
   "outputs": [],
   "source": [
    "# user_message = \"\"\"Query: What is the name of the cities that start ET?\"\"\""
   ]
  },
  {
   "cell_type": "code",
   "execution_count": 60,
   "id": "288ee268-33a7-4df4-9001-5f271f336bb8",
   "metadata": {
    "tags": []
   },
   "outputs": [],
   "source": [
    "# count_token(user_message)"
   ]
  },
  {
   "cell_type": "code",
   "execution_count": 61,
   "id": "a925a3e8-b9e9-4351-a3a0-70fee4c09181",
   "metadata": {
    "tags": []
   },
   "outputs": [],
   "source": [
    "tools = [\n",
    "    {\n",
    "        \"type\": \"function\",\n",
    "        \"function\": {\n",
    "            \"name\": \"ask_database\",\n",
    "            \"description\": \"Use this function to answer user questions about youtube. Input should be a fully formed SQL query.\",\n",
    "            \"parameters\": {\n",
    "                \"type\": \"object\",\n",
    "                \"properties\": {\n",
    "                    \"query\": {\n",
    "                        \"type\": \"string\",\n",
    "                        \"description\": f\"\"\"\n",
    "                                \n",
    "                                SQL query extracting info to answer the user's question.\n",
    "                                SQL should be written using this database schema:\n",
    "                                {database_schema_string}\n",
    "                                The query should be returned in plain text, not in JSON.\n",
    "                                \"\"\",\n",
    "                    }\n",
    "                },\n",
    "                \"required\": [\"query\"],\n",
    "            },\n",
    "        }\n",
    "    }\n",
    "]"
   ]
  },
  {
   "cell_type": "code",
   "execution_count": 62,
   "id": "12d25153-b807-460c-b98e-ace17f011c53",
   "metadata": {
    "tags": []
   },
   "outputs": [],
   "source": [
    "from openai import OpenAI\n",
    "def get_gpt_response(system_message, user_message):\n",
    "    client = OpenAI()\n",
    "    response = client.chat.completions.create(\n",
    "        model=\"gpt-4-1106-preview\",\n",
    "        messages=[\n",
    "            {\n",
    "                \"role\": \"system\",\n",
    "                \"content\": system_message\n",
    "            },\n",
    "            {\n",
    "                \"role\": \"user\",\n",
    "                \"content\": user_message\n",
    "            }\n",
    "        ],\n",
    "        temperature=0,\n",
    "        max_tokens=1024,\n",
    "        top_p=1,\n",
    "        frequency_penalty=0,\n",
    "        presence_penalty=0\n",
    "    )\n",
    "\n",
    "    # Extract GPT-4 response content\n",
    "    gpt_response_content = response.choices[0].message.content\n",
    "    \n",
    "    return gpt_response_content"
   ]
  },
  {
   "cell_type": "code",
   "execution_count": 63,
   "id": "baf408eb-de09-40ec-80d7-375eed7e09b3",
   "metadata": {
    "tags": []
   },
   "outputs": [],
   "source": [
    "# response = get_gpt_response(system_message, user_message)\n",
    "def ask_database(client, query):\n",
    "    \"\"\"Function to query BigQuery dataset with a provided SQL query.\"\"\"\n",
    "    try:\n",
    "        query_job = client.query(query)\n",
    "        results = query_job.result()\n",
    "        rows = [row.values() for row in results]\n",
    "    except Exception as e:\n",
    "        results = f\"query failed with error: {e}\"\n",
    "        rows = []\n",
    "    return rows\n",
    "\n",
    "def execute_function_call(message):\n",
    "    if message[\"tool_calls\"][0][\"function\"][\"name\"] == \"ask_database\":\n",
    "        query = json.loads(message[\"tool_calls\"][0][\"function\"][\"arguments\"])[\"query\"]\n",
    "        results = ask_database(client, query)\n",
    "    else:\n",
    "        results = f\"Error: function {message['tool_calls'][0]['function']['name']} does not exist\"\n",
    "    return results"
   ]
  },
  {
   "cell_type": "code",
   "execution_count": 64,
   "id": "aa2e0eab-1a5d-4fc9-a8f2-3d062c7f5be0",
   "metadata": {
    "tags": []
   },
   "outputs": [
    {
     "name": "stdout",
     "output_type": "stream",
     "text": [
      "=================== Conversation ===================\n",
      "\u001b[31msystem: \n",
      "<prompts>\n",
      "\n",
      "# General Analysis Queries\n",
      "What are the most important trends to note in the viewership data over the past month, considering views, watch time, and average view duration across different tables?\n",
      "Which videos have performed best in the last quarter, based on data from the dim_top10 table?\n",
      "...\n",
      "\n",
      "# Specific Data Requests\n",
      "Please provide a breakdown of views, watch time, and average view duration by device type for the past week, using data from raw_total and raw_gender tables.\n",
      "Show me the top 5 traffic sources that are driving the most views to the channel, based on available data.\n",
      "...\n",
      "\n",
      "# SQL Query Generation\n",
      "Generate the SQL query to retrieve the following data from the specified tables (clearly specify the desired data points and conditions).\n",
      "Translate this natural language question into an SQL query that can be run against the database: (ask your question in plain English, specifying any relevant tables).\n",
      "...\n",
      "\n",
      "# Data Clarification\n",
      "Could you please clarify what you mean by X, and which tables or columns are relevant to your query?\n",
      "Could you provide an example of what you're looking for, specifying the tables and columns you'd like to focus on?\n",
      "...\n",
      "\n",
      "# Uncertainty Handling\n",
      "I'm not confident in providing an accurate answer to that question based on the available data in these tables. Would you like me to try generating an approximate response or seek further input?\n",
      "I'm unable to generate a query for that question due to ambiguity or potential data limitations. Could you please rephrase it or provide more specific details, including relevant tables and columns?\n",
      "\n",
      "# Additional Tables and Descriptions\n",
      "- dim_dail_view_7day: Daily Views Trend (7-Day Rolling Average)\n",
      "  Columns: Date, RollingAverageViews\n",
      "  Example Table Data: Detailed description about the table\n",
      "\n",
      "- dim_top10: Top 10 Days by Views\n",
      "  Columns: Date, TotalViews\n",
      "  Example Table Data: Detailed description about the table\n",
      "\n",
      "- raw_cities: List of all cities\n",
      "  Columns: Cities, City_name, Geography, Geography_3, Views, Watch_time__hours_, Average_view_duration\n",
      "  e.g: \n",
      "      0x164b85cef5ab402d:0x8467b6b037a24d49\n",
      "      Addis Ababa\n",
      "        ET\n",
      "        ET-AA\n",
      "        1252\n",
      "        127.5042\n",
      "    00:06:06\n",
      "  Example Table Data: Detailed description about the table\n",
      "\n",
      "- raw_total: Total views by daily Date column is in this format yyy-mm-dd\n",
      "  Columns: Date, Views\n",
      "  Example Table Data: Detailed description about the table\n",
      "\n",
      "</prompts>\n",
      "\n",
      "\u001b[0m\n",
      "\u001b[32muser: Hi, What are the top 5 cities?\n",
      "\u001b[0m\n",
      "\u001b[34massistant: To determine the top 5 cities based on a specific metric such as views or watch time, we would need to query the `raw_cities` table. Assuming we want to rank the cities by the number of views, the SQL query would look something like this:\n",
      "\n",
      "```sql\n",
      "SELECT City_name, Views\n",
      "FROM raw_cities\n",
      "ORDER BY Views DESC\n",
      "LIMIT 5;\n",
      "```\n",
      "\n",
      "This query selects the city names and the number of views from the `raw_cities` table, orders the results in descending order based on the number of views, and limits the output to the top 5 cities with the most views.\n",
      "\n",
      "Please note that this is a general example and the actual query might need to be adjusted based on the specific schema and column names of your database. If you have a different metric in mind or if there are any specific conditions or time frames you're interested in, please let me know so I can refine the query accordingly.\n",
      "\u001b[0m\n",
      "\u001b[35mfunction (ask_database): []\n",
      "\u001b[0m\n"
     ]
    }
   ],
   "source": [
    "user_message = \"Hi, What are the top 5 cities?\"\n",
    "\n",
    "# Messages list\n",
    "messages = [\n",
    "    {\"role\": \"system\", \"content\": system_message},\n",
    "    {\"role\": \"user\", \"content\": user_message}\n",
    "]\n",
    "\n",
    "# Get GPT response\n",
    "gpt_response = get_gpt_response(system_message, user_message)\n",
    "\n",
    "# Add GPT response to messages\n",
    "messages.append({\"role\": \"assistant\", \"content\": gpt_response})\n",
    "\n",
    "# Assuming chat_completion_request returns a response with tool calls\n",
    "chat_response = chat_completion_request(messages, tools)\n",
    "\n",
    "# Extract assistant's message\n",
    "assistant_message = chat_response.json()[\"choices\"][0][\"message\"]\n",
    "\n",
    "# Uncomment the following lines to print the tool call content\n",
    "# print(\"=================== Tool Call Content ===================\")\n",
    "# print(assistant_message[\"tool_calls\"][0][\"function\"])\n",
    "\n",
    "# Execute the tool function call\n",
    "if assistant_message.get(\"tool_calls\"):\n",
    "    results = execute_function_call(assistant_message)\n",
    "    messages.append({\n",
    "        \"role\": \"tool\",\n",
    "        \"tool_call_id\": assistant_message[\"tool_calls\"][0]['id'],\n",
    "        \"name\": assistant_message[\"tool_calls\"][0][\"function\"][\"name\"],\n",
    "        \"content\": results\n",
    "    })\n",
    "\n",
    "# Print the conversation\n",
    "print(\"=================== Conversation ===================\")\n",
    "pretty_print_conversation(messages)"
   ]
  },
  {
   "cell_type": "code",
   "execution_count": null,
   "id": "7110da7f-dc0b-42ad-a971-14cee8ee30dc",
   "metadata": {},
   "outputs": [],
   "source": []
  }
 ],
 "metadata": {
  "kernelspec": {
   "display_name": "Python 3 (ipykernel)",
   "language": "python",
   "name": "python3"
  },
  "language_info": {
   "codemirror_mode": {
    "name": "ipython",
    "version": 3
   },
   "file_extension": ".py",
   "mimetype": "text/x-python",
   "name": "python",
   "nbconvert_exporter": "python",
   "pygments_lexer": "ipython3",
   "version": "3.11.5"
  }
 },
 "nbformat": 4,
 "nbformat_minor": 5
}
