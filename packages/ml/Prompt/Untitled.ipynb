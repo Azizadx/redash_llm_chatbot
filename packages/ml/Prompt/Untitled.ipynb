{
 "cells": [
  {
   "cell_type": "code",
   "execution_count": 5,
   "id": "0fe4e51e-c5c7-41b4-bd28-754accac9954",
   "metadata": {
    "tags": []
   },
   "outputs": [
    {
     "name": "stdout",
     "output_type": "stream",
     "text": [
      "\u001b[33mDEPRECATION: Loading egg at /Users/azizamed/anaconda3/lib/python3.11/site-packages/pandas-1.5.3-py3.11-macosx-10.9-x86_64.egg is deprecated. pip 24.3 will enforce this behaviour change. A possible replacement is to use pip for package installation.. Discussion can be found at https://github.com/pypa/pip/issues/12330\u001b[0m\u001b[33m\n",
      "\u001b[0m\u001b[33mDEPRECATION: Loading egg at /Users/azizamed/anaconda3/lib/python3.11/site-packages/psycopg2_binary-2.9.9-py3.11-macosx-10.9-x86_64.egg is deprecated. pip 24.3 will enforce this behaviour change. A possible replacement is to use pip for package installation.. Discussion can be found at https://github.com/pypa/pip/issues/12330\u001b[0m\u001b[33m\n",
      "\u001b[0m\u001b[33mDEPRECATION: Loading egg at /Users/azizamed/anaconda3/lib/python3.11/site-packages/fonttools-4.46.0-py3.11-macosx-10.9-x86_64.egg is deprecated. pip 24.3 will enforce this behaviour change. A possible replacement is to use pip for package installation.. Discussion can be found at https://github.com/pypa/pip/issues/12330\u001b[0m\u001b[33m\n",
      "\u001b[0m\u001b[33mDEPRECATION: Loading egg at /Users/azizamed/anaconda3/lib/python3.11/site-packages/User_Analytics_In_The_Telecommunication-0.0.1-py3.11.egg is deprecated. pip 24.3 will enforce this behaviour change. A possible replacement is to use pip for package installation.. Discussion can be found at https://github.com/pypa/pip/issues/12330\u001b[0m\u001b[33m\n",
      "\u001b[0mRequirement already satisfied: google-cloud in /Users/azizamed/anaconda3/lib/python3.11/site-packages (0.34.0)\n",
      "\u001b[33mDEPRECATION: Loading egg at /Users/azizamed/anaconda3/lib/python3.11/site-packages/pandas-1.5.3-py3.11-macosx-10.9-x86_64.egg is deprecated. pip 24.3 will enforce this behaviour change. A possible replacement is to use pip for package installation.. Discussion can be found at https://github.com/pypa/pip/issues/12330\u001b[0m\u001b[33m\n",
      "\u001b[0m\u001b[33mDEPRECATION: Loading egg at /Users/azizamed/anaconda3/lib/python3.11/site-packages/psycopg2_binary-2.9.9-py3.11-macosx-10.9-x86_64.egg is deprecated. pip 24.3 will enforce this behaviour change. A possible replacement is to use pip for package installation.. Discussion can be found at https://github.com/pypa/pip/issues/12330\u001b[0m\u001b[33m\n",
      "\u001b[0m\u001b[33mDEPRECATION: Loading egg at /Users/azizamed/anaconda3/lib/python3.11/site-packages/fonttools-4.46.0-py3.11-macosx-10.9-x86_64.egg is deprecated. pip 24.3 will enforce this behaviour change. A possible replacement is to use pip for package installation.. Discussion can be found at https://github.com/pypa/pip/issues/12330\u001b[0m\u001b[33m\n",
      "\u001b[0m\u001b[33mDEPRECATION: Loading egg at /Users/azizamed/anaconda3/lib/python3.11/site-packages/User_Analytics_In_The_Telecommunication-0.0.1-py3.11.egg is deprecated. pip 24.3 will enforce this behaviour change. A possible replacement is to use pip for package installation.. Discussion can be found at https://github.com/pypa/pip/issues/12330\u001b[0m\u001b[33m\n",
      "\u001b[0mRequirement already satisfied: google-cloud-bigquery[pandas] in /Users/azizamed/anaconda3/lib/python3.11/site-packages (3.14.1)\n",
      "Requirement already satisfied: google-api-core!=2.0.*,!=2.1.*,!=2.2.*,!=2.3.0,<3.0.0dev,>=1.31.5 in /Users/azizamed/anaconda3/lib/python3.11/site-packages (from google-cloud-bigquery[pandas]) (2.15.0)\n",
      "Requirement already satisfied: google-cloud-core<3.0.0dev,>=1.6.0 in /Users/azizamed/anaconda3/lib/python3.11/site-packages (from google-cloud-bigquery[pandas]) (2.4.1)\n",
      "Requirement already satisfied: google-resumable-media<3.0dev,>=0.6.0 in /Users/azizamed/anaconda3/lib/python3.11/site-packages (from google-cloud-bigquery[pandas]) (2.7.0)\n",
      "Requirement already satisfied: packaging>=20.0.0 in /Users/azizamed/anaconda3/lib/python3.11/site-packages (from google-cloud-bigquery[pandas]) (23.1)\n",
      "Requirement already satisfied: python-dateutil<3.0dev,>=2.7.2 in /Users/azizamed/anaconda3/lib/python3.11/site-packages (from google-cloud-bigquery[pandas]) (2.8.2)\n",
      "Requirement already satisfied: requests<3.0.0dev,>=2.21.0 in /Users/azizamed/anaconda3/lib/python3.11/site-packages (from google-cloud-bigquery[pandas]) (2.31.0)\n",
      "Requirement already satisfied: pandas>=1.1.0 in /Users/azizamed/anaconda3/lib/python3.11/site-packages/pandas-1.5.3-py3.11-macosx-10.9-x86_64.egg (from google-cloud-bigquery[pandas]) (1.5.3)\n",
      "Requirement already satisfied: pyarrow>=3.0.0 in /Users/azizamed/anaconda3/lib/python3.11/site-packages (from google-cloud-bigquery[pandas]) (11.0.0)\n",
      "Requirement already satisfied: db-dtypes<2.0.0dev,>=0.3.0 in /Users/azizamed/anaconda3/lib/python3.11/site-packages (from google-cloud-bigquery[pandas]) (1.2.0)\n",
      "Requirement already satisfied: numpy>=1.16.6 in /Users/azizamed/anaconda3/lib/python3.11/site-packages (from db-dtypes<2.0.0dev,>=0.3.0->google-cloud-bigquery[pandas]) (1.24.3)\n",
      "Requirement already satisfied: googleapis-common-protos<2.0.dev0,>=1.56.2 in /Users/azizamed/anaconda3/lib/python3.11/site-packages (from google-api-core!=2.0.*,!=2.1.*,!=2.2.*,!=2.3.0,<3.0.0dev,>=1.31.5->google-cloud-bigquery[pandas]) (1.62.0)\n",
      "Requirement already satisfied: protobuf!=3.20.0,!=3.20.1,!=4.21.0,!=4.21.1,!=4.21.2,!=4.21.3,!=4.21.4,!=4.21.5,<5.0.0.dev0,>=3.19.5 in /Users/azizamed/anaconda3/lib/python3.11/site-packages (from google-api-core!=2.0.*,!=2.1.*,!=2.2.*,!=2.3.0,<3.0.0dev,>=1.31.5->google-cloud-bigquery[pandas]) (4.25.1)\n",
      "Requirement already satisfied: google-auth<3.0.dev0,>=2.14.1 in /Users/azizamed/anaconda3/lib/python3.11/site-packages (from google-api-core!=2.0.*,!=2.1.*,!=2.2.*,!=2.3.0,<3.0.0dev,>=1.31.5->google-cloud-bigquery[pandas]) (2.26.1)\n",
      "Requirement already satisfied: google-crc32c<2.0dev,>=1.0 in /Users/azizamed/anaconda3/lib/python3.11/site-packages (from google-resumable-media<3.0dev,>=0.6.0->google-cloud-bigquery[pandas]) (1.5.0)\n",
      "Requirement already satisfied: pytz>=2020.1 in /Users/azizamed/anaconda3/lib/python3.11/site-packages (from pandas>=1.1.0->google-cloud-bigquery[pandas]) (2023.3.post1)\n",
      "Requirement already satisfied: six>=1.5 in /Users/azizamed/anaconda3/lib/python3.11/site-packages (from python-dateutil<3.0dev,>=2.7.2->google-cloud-bigquery[pandas]) (1.16.0)\n",
      "Requirement already satisfied: charset-normalizer<4,>=2 in /Users/azizamed/anaconda3/lib/python3.11/site-packages (from requests<3.0.0dev,>=2.21.0->google-cloud-bigquery[pandas]) (2.0.4)\n",
      "Requirement already satisfied: idna<4,>=2.5 in /Users/azizamed/anaconda3/lib/python3.11/site-packages (from requests<3.0.0dev,>=2.21.0->google-cloud-bigquery[pandas]) (3.4)\n",
      "Requirement already satisfied: urllib3<3,>=1.21.1 in /Users/azizamed/anaconda3/lib/python3.11/site-packages (from requests<3.0.0dev,>=2.21.0->google-cloud-bigquery[pandas]) (1.26.16)\n",
      "Requirement already satisfied: certifi>=2017.4.17 in /Users/azizamed/anaconda3/lib/python3.11/site-packages (from requests<3.0.0dev,>=2.21.0->google-cloud-bigquery[pandas]) (2023.7.22)\n",
      "Requirement already satisfied: cachetools<6.0,>=2.0.0 in /Users/azizamed/anaconda3/lib/python3.11/site-packages (from google-auth<3.0.dev0,>=2.14.1->google-api-core!=2.0.*,!=2.1.*,!=2.2.*,!=2.3.0,<3.0.0dev,>=1.31.5->google-cloud-bigquery[pandas]) (5.3.2)\n",
      "Requirement already satisfied: pyasn1-modules>=0.2.1 in /Users/azizamed/anaconda3/lib/python3.11/site-packages (from google-auth<3.0.dev0,>=2.14.1->google-api-core!=2.0.*,!=2.1.*,!=2.2.*,!=2.3.0,<3.0.0dev,>=1.31.5->google-cloud-bigquery[pandas]) (0.2.8)\n",
      "Requirement already satisfied: rsa<5,>=3.1.4 in /Users/azizamed/anaconda3/lib/python3.11/site-packages (from google-auth<3.0.dev0,>=2.14.1->google-api-core!=2.0.*,!=2.1.*,!=2.2.*,!=2.3.0,<3.0.0dev,>=1.31.5->google-cloud-bigquery[pandas]) (4.9)\n",
      "Requirement already satisfied: pyasn1<0.5.0,>=0.4.6 in /Users/azizamed/anaconda3/lib/python3.11/site-packages (from pyasn1-modules>=0.2.1->google-auth<3.0.dev0,>=2.14.1->google-api-core!=2.0.*,!=2.1.*,!=2.2.*,!=2.3.0,<3.0.0dev,>=1.31.5->google-cloud-bigquery[pandas]) (0.4.8)\n",
      "\u001b[33mDEPRECATION: Loading egg at /Users/azizamed/anaconda3/lib/python3.11/site-packages/pandas-1.5.3-py3.11-macosx-10.9-x86_64.egg is deprecated. pip 24.3 will enforce this behaviour change. A possible replacement is to use pip for package installation.. Discussion can be found at https://github.com/pypa/pip/issues/12330\u001b[0m\u001b[33m\n",
      "\u001b[0m\u001b[33mDEPRECATION: Loading egg at /Users/azizamed/anaconda3/lib/python3.11/site-packages/psycopg2_binary-2.9.9-py3.11-macosx-10.9-x86_64.egg is deprecated. pip 24.3 will enforce this behaviour change. A possible replacement is to use pip for package installation.. Discussion can be found at https://github.com/pypa/pip/issues/12330\u001b[0m\u001b[33m\n",
      "\u001b[0m\u001b[33mDEPRECATION: Loading egg at /Users/azizamed/anaconda3/lib/python3.11/site-packages/fonttools-4.46.0-py3.11-macosx-10.9-x86_64.egg is deprecated. pip 24.3 will enforce this behaviour change. A possible replacement is to use pip for package installation.. Discussion can be found at https://github.com/pypa/pip/issues/12330\u001b[0m\u001b[33m\n",
      "\u001b[0m\u001b[33mDEPRECATION: Loading egg at /Users/azizamed/anaconda3/lib/python3.11/site-packages/User_Analytics_In_The_Telecommunication-0.0.1-py3.11.egg is deprecated. pip 24.3 will enforce this behaviour change. A possible replacement is to use pip for package installation.. Discussion can be found at https://github.com/pypa/pip/issues/12330\u001b[0m\u001b[33m\n",
      "\u001b[0mRequirement already satisfied: google-cloud-storage in /Users/azizamed/anaconda3/lib/python3.11/site-packages (2.14.0)\n",
      "Requirement already satisfied: google-auth<3.0dev,>=2.23.3 in /Users/azizamed/anaconda3/lib/python3.11/site-packages (from google-cloud-storage) (2.26.1)\n",
      "Requirement already satisfied: google-api-core!=2.0.*,!=2.1.*,!=2.2.*,!=2.3.0,<3.0.0dev,>=1.31.5 in /Users/azizamed/anaconda3/lib/python3.11/site-packages (from google-cloud-storage) (2.15.0)\n",
      "Requirement already satisfied: google-cloud-core<3.0dev,>=2.3.0 in /Users/azizamed/anaconda3/lib/python3.11/site-packages (from google-cloud-storage) (2.4.1)\n",
      "Requirement already satisfied: google-resumable-media>=2.6.0 in /Users/azizamed/anaconda3/lib/python3.11/site-packages (from google-cloud-storage) (2.7.0)\n",
      "Requirement already satisfied: requests<3.0.0dev,>=2.18.0 in /Users/azizamed/anaconda3/lib/python3.11/site-packages (from google-cloud-storage) (2.31.0)\n",
      "Requirement already satisfied: google-crc32c<2.0dev,>=1.0 in /Users/azizamed/anaconda3/lib/python3.11/site-packages (from google-cloud-storage) (1.5.0)\n",
      "Requirement already satisfied: googleapis-common-protos<2.0.dev0,>=1.56.2 in /Users/azizamed/anaconda3/lib/python3.11/site-packages (from google-api-core!=2.0.*,!=2.1.*,!=2.2.*,!=2.3.0,<3.0.0dev,>=1.31.5->google-cloud-storage) (1.62.0)\n",
      "Requirement already satisfied: protobuf!=3.20.0,!=3.20.1,!=4.21.0,!=4.21.1,!=4.21.2,!=4.21.3,!=4.21.4,!=4.21.5,<5.0.0.dev0,>=3.19.5 in /Users/azizamed/anaconda3/lib/python3.11/site-packages (from google-api-core!=2.0.*,!=2.1.*,!=2.2.*,!=2.3.0,<3.0.0dev,>=1.31.5->google-cloud-storage) (4.25.1)\n",
      "Requirement already satisfied: cachetools<6.0,>=2.0.0 in /Users/azizamed/anaconda3/lib/python3.11/site-packages (from google-auth<3.0dev,>=2.23.3->google-cloud-storage) (5.3.2)\n",
      "Requirement already satisfied: pyasn1-modules>=0.2.1 in /Users/azizamed/anaconda3/lib/python3.11/site-packages (from google-auth<3.0dev,>=2.23.3->google-cloud-storage) (0.2.8)\n",
      "Requirement already satisfied: rsa<5,>=3.1.4 in /Users/azizamed/anaconda3/lib/python3.11/site-packages (from google-auth<3.0dev,>=2.23.3->google-cloud-storage) (4.9)\n",
      "Requirement already satisfied: charset-normalizer<4,>=2 in /Users/azizamed/anaconda3/lib/python3.11/site-packages (from requests<3.0.0dev,>=2.18.0->google-cloud-storage) (2.0.4)\n",
      "Requirement already satisfied: idna<4,>=2.5 in /Users/azizamed/anaconda3/lib/python3.11/site-packages (from requests<3.0.0dev,>=2.18.0->google-cloud-storage) (3.4)\n",
      "Requirement already satisfied: urllib3<3,>=1.21.1 in /Users/azizamed/anaconda3/lib/python3.11/site-packages (from requests<3.0.0dev,>=2.18.0->google-cloud-storage) (1.26.16)\n",
      "Requirement already satisfied: certifi>=2017.4.17 in /Users/azizamed/anaconda3/lib/python3.11/site-packages (from requests<3.0.0dev,>=2.18.0->google-cloud-storage) (2023.7.22)\n",
      "Requirement already satisfied: pyasn1<0.5.0,>=0.4.6 in /Users/azizamed/anaconda3/lib/python3.11/site-packages (from pyasn1-modules>=0.2.1->google-auth<3.0dev,>=2.23.3->google-cloud-storage) (0.4.8)\n"
     ]
    }
   ],
   "source": [
    "!pip install google-cloud --user\n",
    "!pip install --upgrade google-cloud-bigquery[pandas] --user\n",
    "!pip install google-cloud-storage --user"
   ]
  },
  {
   "cell_type": "code",
   "execution_count": 25,
   "id": "6fe62f53-9e11-4afd-8aed-30197ad678ba",
   "metadata": {
    "tags": []
   },
   "outputs": [],
   "source": [
    "import logging\n",
    "import json\n",
    "import os\n",
    "from datetime import datetime\n",
    "import pprint\n",
    "\n",
    "# Default scope to get access token\n",
    "_SCOPE = 'https://www.googleapis.com/auth/cloud-platform'\n",
    "from google.cloud import bigquery\n",
    "client = bigquery.Client.from_service_account_json('../../data_warehousing/data_warehousing/include/gcp/service_account.json')"
   ]
  },
  {
   "cell_type": "code",
   "execution_count": 26,
   "id": "147cb073-2e5b-4de0-861d-311a2218e0c5",
   "metadata": {
    "tags": []
   },
   "outputs": [],
   "source": [
    "QUERY = (\n",
    "    'SELECT * FROM `ariflow-tutorial.youtube.raw_cities` '\n",
    "    'LIMIT 10')\n",
    "query_job = client.query(QUERY)  # API request\n",
    "rows = query_job.result()\n",
    "df=rows.to_dataframe()"
   ]
  },
  {
   "cell_type": "code",
   "execution_count": 27,
   "id": "db5a88e1-3b7a-452c-8438-36238f0bb318",
   "metadata": {
    "tags": []
   },
   "outputs": [
    {
     "name": "stdout",
     "output_type": "stream",
     "text": [
      "<class 'pandas.core.frame.DataFrame'>\n",
      "RangeIndex: 9 entries, 0 to 8\n",
      "Data columns (total 7 columns):\n",
      " #   Column                 Non-Null Count  Dtype  \n",
      "---  ------                 --------------  -----  \n",
      " 0   Cities                 9 non-null      object \n",
      " 1   City_name              8 non-null      object \n",
      " 2   Geography              8 non-null      object \n",
      " 3   Geography_3            8 non-null      object \n",
      " 4   Views                  9 non-null      Int64  \n",
      " 5   Watch_time__hours_     9 non-null      float64\n",
      " 6   Average_view_duration  9 non-null      dbtime \n",
      "dtypes: Int64(1), dbtime(1), float64(1), object(4)\n",
      "memory usage: 645.0+ bytes\n"
     ]
    }
   ],
   "source": [
    "df.info()"
   ]
  },
  {
   "cell_type": "code",
   "execution_count": 24,
   "id": "ab0ede84-d005-466e-9f20-a825bae2cd75",
   "metadata": {
    "tags": []
   },
   "outputs": [
    {
     "data": {
      "text/plain": [
       "<bound method NDFrame.describe of          Date  TotalViews\n",
       "0  2022-08-09         311\n",
       "1  2023-12-01         191\n",
       "2  2021-06-21         181\n",
       "3  2022-09-26         367\n",
       "4  2023-11-29         263\n",
       "5  2022-09-25         179\n",
       "6  2022-08-08         363\n",
       "7  2023-11-28         359\n",
       "8  2023-11-30         202\n",
       "9  2023-11-27         332>"
      ]
     },
     "execution_count": 24,
     "metadata": {},
     "output_type": "execute_result"
    }
   ],
   "source": [
    "df.describe"
   ]
  },
  {
   "cell_type": "code",
   "execution_count": 30,
   "id": "00877ae0-38ba-4d9d-8677-3d8d79883bc2",
   "metadata": {
    "tags": []
   },
   "outputs": [],
   "source": [
    "def get_table_names(client, dataset_id):\n",
    "    \"\"\"Return a list of table names in the specified dataset.\"\"\"\n",
    "    table_names = []\n",
    "    dataset_ref = client.dataset(dataset_id)\n",
    "    \n",
    "    # List tables in the dataset\n",
    "    tables = client.list_tables(dataset_ref)\n",
    "    \n",
    "    for table in tables:\n",
    "        table_names.append(table.table_id)\n",
    "    \n",
    "    return table_names"
   ]
  },
  {
   "cell_type": "code",
   "execution_count": 32,
   "id": "6786fe3e-35f7-4a82-8960-e355eebb2358",
   "metadata": {
    "tags": []
   },
   "outputs": [
    {
     "data": {
      "text/plain": [
       "['dim_dail_view_7day', 'dim_top10', 'raw_cities', 'raw_gender', 'raw_total']"
      ]
     },
     "execution_count": 32,
     "metadata": {},
     "output_type": "execute_result"
    }
   ],
   "source": [
    "get_table_names(client,'youtube')"
   ]
  },
  {
   "cell_type": "code",
   "execution_count": 33,
   "id": "b17f341d-5369-47fc-baa0-2ba2560fc2dc",
   "metadata": {
    "tags": []
   },
   "outputs": [],
   "source": [
    "def get_column_names(client, dataset_id, table_name):\n",
    "    \"\"\"Return a list of column names for the specified table.\"\"\"\n",
    "    column_names = []\n",
    "    table_ref = client.dataset(dataset_id).table(table_name)\n",
    "    table = client.get_table(table_ref)\n",
    "    for field in table.schema:\n",
    "        column_names.append(field.name)\n",
    "    return column_names"
   ]
  },
  {
   "cell_type": "code",
   "execution_count": 35,
   "id": "b2dcf8ce-c16d-4bfe-9bd1-0c7b5684ea50",
   "metadata": {
    "tags": []
   },
   "outputs": [
    {
     "data": {
      "text/plain": [
       "['Cities',\n",
       " 'City_name',\n",
       " 'Geography',\n",
       " 'Geography_3',\n",
       " 'Views',\n",
       " 'Watch_time__hours_',\n",
       " 'Average_view_duration']"
      ]
     },
     "execution_count": 35,
     "metadata": {},
     "output_type": "execute_result"
    }
   ],
   "source": [
    "get_column_names(client,'youtube','raw_cities')"
   ]
  },
  {
   "cell_type": "code",
   "execution_count": 40,
   "id": "2e6a3d27-5040-4efc-b59f-a19e2e8ce334",
   "metadata": {
    "tags": []
   },
   "outputs": [],
   "source": [
    "def get_database_info(client, dataset_id):\n",
    "    \"\"\"Return a list of dicts containing the table name and columns for each table in the dataset.\"\"\"\n",
    "    table_dicts = []\n",
    "    for table_name in get_table_names(client, dataset_id):\n",
    "        column_names = get_column_names(client, dataset_id, table_name)\n",
    "        table_dicts.append({\"table_name\": table_name, \"column_names\": column_names})\n",
    "    return table_dicts"
   ]
  },
  {
   "cell_type": "code",
   "execution_count": 41,
   "id": "828895fe-a1b9-44c8-bc82-b9fa71f1939c",
   "metadata": {
    "tags": []
   },
   "outputs": [
    {
     "data": {
      "text/plain": [
       "[{'table_name': 'dim_dail_view_7day',\n",
       "  'column_names': ['Date', 'RollingAverageViews']},\n",
       " {'table_name': 'dim_top10', 'column_names': ['Date', 'TotalViews']},\n",
       " {'table_name': 'raw_cities',\n",
       "  'column_names': ['Cities',\n",
       "   'City_name',\n",
       "   'Geography',\n",
       "   'Geography_3',\n",
       "   'Views',\n",
       "   'Watch_time__hours_',\n",
       "   'Average_view_duration']},\n",
       " {'table_name': 'raw_gender',\n",
       "  'column_names': ['Date',\n",
       "   'Views',\n",
       "   'Watch_time__hours_',\n",
       "   'Average_view_duration']},\n",
       " {'table_name': 'raw_total', 'column_names': ['Date', 'Views']}]"
      ]
     },
     "execution_count": 41,
     "metadata": {},
     "output_type": "execute_result"
    }
   ],
   "source": [
    "get_database_info(client,'youtube')"
   ]
  },
  {
   "cell_type": "code",
   "execution_count": null,
   "id": "ef7d6d1d-b104-4c12-a697-85ceb0e8d3da",
   "metadata": {},
   "outputs": [],
   "source": []
  }
 ],
 "metadata": {
  "kernelspec": {
   "display_name": "Python 3 (ipykernel)",
   "language": "python",
   "name": "python3"
  },
  "language_info": {
   "codemirror_mode": {
    "name": "ipython",
    "version": 3
   },
   "file_extension": ".py",
   "mimetype": "text/x-python",
   "name": "python",
   "nbconvert_exporter": "python",
   "pygments_lexer": "ipython3",
   "version": "3.11.5"
  }
 },
 "nbformat": 4,
 "nbformat_minor": 5
}
